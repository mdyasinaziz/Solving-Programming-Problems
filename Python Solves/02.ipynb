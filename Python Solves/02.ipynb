{
 "cells": [
  {
   "cell_type": "code",
   "execution_count": 5,
   "metadata": {},
   "outputs": [
    {
     "name": "stdout",
     "output_type": "stream",
     "text": [
      "(5,2)\n",
      "0.5\n"
     ]
    }
   ],
   "source": [
    "#task-1\n",
    "\n",
    "def func():\n",
    "    user_input = input()\n",
    "    f = user_input[slice(1,-1)]\n",
    "    n = f.split(',')\n",
    "    n1 = int(n[0])\n",
    "    n2 = int(n[1])\n",
    "    if n2:\n",
    "        variable = n1 % n2 / n2\n",
    "        if variable:\n",
    "            print(variable)\n",
    "            return\n",
    "    else:\n",
    "        print(0)\n",
    "func()"
   ]
  },
  {
   "cell_type": "code",
   "execution_count": 5,
   "metadata": {},
   "outputs": [
    {
     "name": "stdout",
     "output_type": "stream",
     "text": [
      "(175, 96)\n",
      "Score is 31.3. You are Obese\n"
     ]
    }
   ],
   "source": [
    "#task-2\n",
    "\n",
    "def get_bmi(weight, height):\n",
    "    height /= 100\n",
    "    bmi = weight / height / height\n",
    "    return bmi\n",
    "\n",
    "user_input = input()\n",
    "f = eval(user_input)\n",
    "height, weight = f\n",
    "variable = get_bmi(weight, height)\n",
    "if variable < 18.5:\n",
    "    result = 'Underweight'\n",
    "elif variable < 25:\n",
    "    result = 'Normal'\n",
    "elif variable <= 30:\n",
    "    result = 'Overweight'\n",
    "else:\n",
    "    result = 'Obese'\n",
    "print('Score is {:.1f}. You are {}'.format(variable, result))"
   ]
  },
  {
   "cell_type": "code",
   "execution_count": 2,
   "metadata": {},
   "outputs": [
    {
     "name": "stdout",
     "output_type": "stream",
     "text": [
      "0,10,2\n",
      "20\n"
     ]
    }
   ],
   "source": [
    "#task-3\n",
    "\n",
    "def my_func(min, max, divisor):\n",
    "    sum=0\n",
    "    for repeat in range(x, y):\n",
    "        if repeat % z == 0:\n",
    "            sum=sum+repeat\n",
    "    print(sum)\n",
    "\n",
    "x, y, z = [int(x) for x in input().split(\",\")]\n",
    "result = my_func(x,y,z)"
   ]
  },
  {
   "cell_type": "code",
   "execution_count": 8,
   "metadata": {},
   "outputs": [
    {
     "name": "stdout",
     "output_type": "stream",
     "text": [
      "('Beef Burger', 'Dhanmondi')\n",
      "243.6\n"
     ]
    }
   ],
   "source": [
    "#task-4\n",
    "\n",
    "def func(burger, place='Mohakhali'):\n",
    "    if burger == 'BBQ Chicken Cheese Burger':\n",
    "        meal_cost = 250\n",
    "    elif burger == 'Beef Burger':\n",
    "        meal_cost = 170\n",
    "    elif burger == 'Naga Drums':\n",
    "        meal_cost = 200\n",
    "    delivery_charge = 40\n",
    "    if place != 'Mohakhali':\n",
    "        delivery_charge += 20\n",
    "    tax = meal_cost * 8 / 100\n",
    "    price = meal_cost + delivery_charge + tax\n",
    "    return price\n",
    "\n",
    "user_input = input()\n",
    "f = eval(user_input)\n",
    "if len(f) == 2:\n",
    "    burger, place = f\n",
    "    variable = func(burger, place)\n",
    "else:\n",
    "    burger = f\n",
    "    variable = func(burger)\n",
    "print('{:.1f}'.format(variable))"
   ]
  },
  {
   "cell_type": "code",
   "execution_count": 6,
   "metadata": {},
   "outputs": [
    {
     "name": "stdout",
     "output_type": "stream",
     "text": [
      "('alice@kaaj.com', 'sheba.xyz', 'kaaj.com')\n",
      "Changed: alice@sheba.xyz\n"
     ]
    }
   ],
   "source": [
    "def replace_domain(email, new, old=None):\n",
    "    if old:\n",
    "        index = email.index('@')\n",
    "        address = email[:index + 1]\n",
    "        email = address + new\n",
    "    return email\n",
    "\n",
    "user_input = input()\n",
    "f = eval(user_input)\n",
    "if len(f) == 3:\n",
    "    e_mail, new_domain, old_domain = f\n",
    "    variable = replace_domain(e_mail, new_domain, old_domain)\n",
    "    if new_domain == old_domain:\n",
    "        variable = 'Unchanged: ' + variable\n",
    "    else:\n",
    "        variable = 'Changed: ' + variable\n",
    "else:\n",
    "    e_mail, new_domain = f\n",
    "    variable = replace_domain(e_mail, new_domain)\n",
    "    variable = 'Unchanged: ' + variable\n",
    "print(variable)"
   ]
  },
  {
   "cell_type": "code",
   "execution_count": 10,
   "metadata": {},
   "outputs": [
    {
     "name": "stdout",
     "output_type": "stream",
     "text": [
      "(Steve Jobs)\n",
      "Vowels: e, e, o. Total number of vowels: 3\n"
     ]
    }
   ],
   "source": [
    "#task-6\n",
    "\n",
    "VOWELS = 'AEIOUaeiou'\n",
    "\n",
    "def vowel_counter(word):\n",
    "    vowels = ''\n",
    "    number = 0\n",
    "    for repeat in word:\n",
    "        if repeat in VOWELS:\n",
    "            vowels += repeat + ', '\n",
    "            number += 1\n",
    "    if number:\n",
    "        variable = 'Vowels: ' + vowels[:-2] + '. Total number of vowels: ' + str(number)\n",
    "    else:\n",
    "        variable = 'No vowels in the name'\n",
    "    return variable\n",
    "\n",
    "user_input = input()\n",
    "name = user_input[1:-1]\n",
    "result = vowel_counter(name)\n",
    "print(result)"
   ]
  },
  {
   "cell_type": "code",
   "execution_count": 11,
   "metadata": {},
   "outputs": [
    {
     "name": "stdout",
     "output_type": "stream",
     "text": [
      "'madam'\n",
      "Palindrome\n"
     ]
    }
   ],
   "source": [
    "#task-7\n",
    "\n",
    "def is_palindrome(word):\n",
    "    word = word.replace(' ', '')\n",
    "    return word == word[::-1]\n",
    "\n",
    "user_input = input()\n",
    "if is_palindrome(user_input):\n",
    "    print('Palindrome')\n",
    "else:\n",
    "    print('Not a palindrome')"
   ]
  },
  {
   "cell_type": "code",
   "execution_count": 12,
   "metadata": {},
   "outputs": [
    {
     "name": "stdout",
     "output_type": "stream",
     "text": [
      "(4320)\n",
      "11 years, 10 months, 5 days\n"
     ]
    }
   ],
   "source": [
    "#task-8\n",
    "\n",
    "def func(days):\n",
    "    years = days // 365\n",
    "    variable = str(years) + ' years, '\n",
    "    days %= 365\n",
    "    months = days // 30\n",
    "    variable += str(months) + ' months, '\n",
    "    days %= 30\n",
    "    variable += str(days) + ' days'\n",
    "    return variable\n",
    "\n",
    "while True:\n",
    "    user_input = input()\n",
    "    result = func(int(user_input[1:-1]))\n",
    "    print(result)\n",
    "    break"
   ]
  },
  {
   "cell_type": "code",
   "execution_count": 13,
   "metadata": {},
   "outputs": [
    {
     "name": "stdout",
     "output_type": "stream",
     "text": [
      "my favourite animal is a dog. a dog has sharp teeth so that it can eat flesh very easily. do you know my pet dog’s name? i love my pet very much.\n",
      "My favourite animal is a dog. A dog has sharp teeth so that it can eat flesh very easily. Do you know my pet dog’s name? I love my pet very much.\n"
     ]
    }
   ],
   "source": [
    "#task-9\n",
    "\n",
    "def func():\n",
    "    string_input = input()\n",
    "    for repeat in '. ', '! ', '? ':\n",
    "        lst = string_input.split(repeat)\n",
    "        empty_string = ''\n",
    "\n",
    "        for repeat_1 in lst:\n",
    "            empty_string += repeat_1[0].capitalize() + repeat_1[1:] + repeat\n",
    "        string_input = empty_string[:-2]\n",
    "        string_input = string_input.replace(' i' + repeat[0], ' I' + repeat[0])\n",
    "\n",
    "    string_input = string_input.replace(' i ', ' I ')\n",
    "\n",
    "    print(string_input)\n",
    "\n",
    "func()"
   ]
  }
 ],
 "metadata": {
  "kernelspec": {
   "display_name": "Python 3",
   "language": "python",
   "name": "python3"
  },
  "language_info": {
   "codemirror_mode": {
    "name": "ipython",
    "version": 3
   },
   "file_extension": ".py",
   "mimetype": "text/x-python",
   "name": "python",
   "nbconvert_exporter": "python",
   "pygments_lexer": "ipython3",
   "version": "3.7.6"
  }
 },
 "nbformat": 4,
 "nbformat_minor": 4
}
